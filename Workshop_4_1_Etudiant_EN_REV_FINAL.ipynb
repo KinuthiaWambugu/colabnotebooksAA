{
  "cells": [
    {
      "cell_type": "markdown",
      "metadata": {
        "id": "view-in-github",
        "colab_type": "text"
      },
      "source": [
        "<a href=\"https://colab.research.google.com/github/KinuthiaWambugu/colabnotebooksAA/blob/AA/Workshop_4_1_Etudiant_EN_REV_FINAL.ipynb\" target=\"_parent\"><img src=\"https://colab.research.google.com/assets/colab-badge.svg\" alt=\"Open In Colab\"/></a>"
      ]
    },
    {
      "cell_type": "markdown",
      "metadata": {
        "id": "pPk_JtGYJQbX"
      },
      "source": [
        "# <center>Combinatorial optimization by metaheuristic <br/> Workshop</center>\n",
        "\n",
        "![logoEI_1_6.jpg](attachment:logoEI_1_6.jpg)"
      ]
    },
    {
      "cell_type": "markdown",
      "metadata": {
        "id": "JZaeE6iKJQbZ"
      },
      "source": [
        "We meet up with our student, whose Smartphone is bursting at the seams. He has not given up taking his music library with him, but his attempt to rely on the [knapsack](https://en.wikipedia.org/wiki/Knapsack_problem) problem \"*Given a set of items, each with a weight and a value, determine which items to include in the collection so that the total weight is less than or equal to a given limit and the total value is as large as possible.* was not very conclusive.\n",
        "The approach by linear programming did not work, due to the integer variables, which make its problem-solving by the simplex impossible. It's a shame, because this algorithmic problem corresponds to many challenges, especially from logistics. Which ones can you imagine&nbsp;?\n",
        "\n",
        "<em></em>\n",
        "\n",
        "1.   Selection of investments and portfolios\n",
        "2.   Resource allocation\n",
        "3. Inventory management\n",
        "4. Cargo loading\n",
        "5. Generating keys for the Merkle-Hellman and other knapsack cryptosystems.\n",
        "\n"
      ]
    },
    {
      "cell_type": "markdown",
      "metadata": {
        "id": "cvdIWNDbJQba"
      },
      "source": [
        "# 1 Basic modelling and implementation\n",
        "\n",
        "We will start by setting up a simple generic approach to solve this knapsack problem.\n",
        "\n",
        "\n",
        "## 1.1 Heuristic modelling\n",
        "\n",
        "The [_Hill Climbing_](https://en.wikipedia.org/wiki/Hill_climbing) algorithm (that we should sometimes rather call _Valley Descending_) is a fairly simple solution to implement. What is this algorithm&nbsp;?\n",
        "\n",
        "<font color=\"yellow\">\n",
        "<em>This is a popular heuristic search method that adapts to optimization problems and uses local search to identify the optimum. <br>\n",
        "Hill climbing is a popular heuristic search technique used for solving optimization problems, including the knapsack problem, where we aim to find a solution that maximizes or minimizes a certain objective function under specific constraints. It’s a local search algorithm that iteratively improves a solution by moving in the direction of higher \"value\" or \"fitness\" until it reaches a peak (a solution that’s better than all its neighbors).</em>\n",
        "</font>\n",
        "\n",
        "\n",
        "The first (and main) step in modelling a problem for a metaheuristic is therefore the definition of the neighbourhood structure (at least in the case of a trajectory method). What simple modification of a solution can we consider in our case of knapsack problem&nbsp;?\n",
        "\n",
        "<font color =\"yellow\">\n",
        "<em>Removing an item currently in the knapsack is another way to modify the solution. This reduces the total weight and might make room for higher-value items in subsequent moves.</em>\n",
        "</font>\n",
        "\n",
        "What’s left to address is the computational representation of our data. Knowing that a solution represents, for each object, the fact that we take this object or not, how will we computationally model such a solution&nbsp;?\n",
        "\n",
        "<font color = \"yellow\">\n",
        "<em>Using a boolean structure with T or F</em>\n",
        "\n",
        "From there, representing the weights and values of each object is quite natural. What structures will be adapted&nbsp;?\n",
        "\n",
        "<font color = \"yellow\">\n",
        "<em>With 2 boolean arrays for weights and another for values of objects.</em>"
      ]
    },
    {
      "cell_type": "markdown",
      "metadata": {
        "id": "C2psA2j1JQbb"
      },
      "source": [
        "## 1.2 Basic structures and functions\n",
        "\n",
        "\n",
        "You already know the very general principle of the algorithms that we are going to implement. It's about generating valid solutions, assessing their value, and keeping the best one. Which Python data structures are we going to use to prioritize runtime performance&nbsp;? Propose a structure for&nbsp;:\n",
        "* an instance of the problem\n",
        "* a solution of one instance\n",
        "\n",
        "<font color = \"yellow\">\n",
        "<em>\n",
        "Instance - no. of objects we're working on, defined with their weights and values and the bags capacity. {Dictionary - best for searching - 0(1)}\n",
        "\n",
        "Solution - tuple of booleans.\n",
        "</em>\n",
        "</font>\n",
        "\n",
        "Let's start with instances. If we want to test our functions, we must be able to randomly generate an instance (given a weight and a maximum value for any object). For the number of objects and the bag’s capacity, two integers will do&nbsp;:"
      ]
    },
    {
      "cell_type": "code",
      "execution_count": 45,
      "metadata": {
        "id": "BSCQgLpIJQbb"
      },
      "outputs": [],
      "source": [
        "nb_objets = 10\n",
        "capacite = 20"
      ]
    },
    {
      "cell_type": "markdown",
      "metadata": {
        "id": "Gije9DxHJQbc"
      },
      "source": [
        "With Python’s standard [random](https://docs.python.org/fr/3/library/random.html) library, our random instance generation function will be very simple to write. It will be able to return a tuple of dictionaries `(weight, value)`, which it will have generated with Comprehension."
      ]
    },
    {
      "cell_type": "code",
      "execution_count": 55,
      "metadata": {
        "scrolled": true,
        "colab": {
          "base_uri": "https://localhost:8080/"
        },
        "id": "SNpZfVe1JQbc",
        "outputId": "8227e0b6-de14-40ed-8409-c87d4683d2b2"
      },
      "outputs": [
        {
          "output_type": "stream",
          "name": "stdout",
          "text": [
            "{0: 4, 1: 10, 2: 9, 3: 3, 4: 6}\n",
            "{0: 10, 1: 8, 2: 10, 3: 2, 4: 10}\n"
          ]
        }
      ],
      "source": [
        "import random\n",
        "\n",
        "def random_objets(poids_max, val_max):\n",
        " \"\"\"\n",
        " This function generates objects of random weight and value\n",
        " (limited by the values passed in parameter).\n",
        "\n",
        " Returns a tuple of 2 dictionaries (weight,value)\n",
        " \"\"\"\n",
        "\n",
        " poids_objets = {i:random.randint(1, poids_max) for i in range(nb_objets)}\n",
        " valeur_objets = {i:random.randint(1, val_max) for i in range(nb_objets)}\n",
        "\n",
        " return poids_objets, valeur_objets\n",
        "\n",
        "random.seed(a=3) # using a seed explicitly will reproduce the initial conditions\n",
        " # and compare the behaviour of different algorithms on the same instance\n",
        "\n",
        "poids_objets, valeur_objets = random_objets(10, 10)\n",
        "print(str(poids_objets) + \"\\n\" + str(valeur_objets))"
      ]
    },
    {
      "cell_type": "markdown",
      "metadata": {
        "id": "LUxC0TYzJQbc"
      },
      "source": [
        "Now that we can generate a random instance, we will be able to implement and test the basic functions that any metaheuristic needs. Which ones&nbsp;?\n",
        "\n",
        "<font color = \"yellow\">\n",
        "<em>Function to calculate the weight of the solution, i.e., sum of the wweights of the objects in a bag<br>\n",
        "Function calculating the value of a solution, so that the metaheuristic can compare the 2 solutions.\n",
        "</em>\n",
        "</font>\n",
        "\n",
        "Therefore, what must be done is to successfully write a Comprehension that returns the indices of the objects present in the bag. For that, we'll add a [conditional List Comprehension](https://riptutorial.com/python/example/767/conditional-list-comprehensions), which will [enumerate](https://www.guru99.com/python-enumerate-function.html) the content of the bag, and only filter the <code class=\"cm-s-ipython language-python\"><span class=\"cm-keyword\">True</span></code> values. Let's try to write this Comprehension.\n",
        "\n"
      ]
    },
    {
      "cell_type": "code",
      "execution_count": 56,
      "metadata": {
        "colab": {
          "base_uri": "https://localhost:8080/"
        },
        "id": "S6CXcUw4JQbd",
        "outputId": "7a693117-3dff-44e0-9e53-42a4d6981f12"
      },
      "outputs": [
        {
          "output_type": "stream",
          "name": "stdout",
          "text": [
            "[0, 2]\n"
          ]
        }
      ],
      "source": [
        "sac = (True, False, True)\n",
        "\n",
        "# we test the generator with a List Comprehension\n",
        "#objets =[i for i in range(len(sac)) if sac[i]]\n",
        "objets = [i for i, val in enumerate(sac) if val]\n",
        "\n",
        "print(objets)"
      ]
    },
    {
      "cell_type": "markdown",
      "metadata": {
        "id": "f-3LdTL5JQbd"
      },
      "source": [
        "We obtain the list of indices of the objects we are interested in. Now, we are going to modify this generator to create the list of weight values of the objects present in the bag.\n",
        "\n",
        "\n",
        "We will directly use this method to implement a function for calculating the weight of the bag. And by the way, we also implement the calculation of the value of the bag, on the same principle."
      ]
    },
    {
      "cell_type": "code",
      "execution_count": 57,
      "metadata": {
        "id": "MnrmeXGpJQbd"
      },
      "outputs": [],
      "source": [
        "def poids_contenu(sac):\n",
        " \"\"\"\n",
        " This function returns the sum of the weights of the objects in the bag\n",
        " \"\"\"\n",
        " return sum([poids_objets[i] for i, val in enumerate(sac) if val])\n",
        "\n",
        "def valeur_contenu(sac):\n",
        " \"\"\"\n",
        " This function returns the sum of the values of the objects in the bag\n",
        " \"\"\"\n",
        " # sum of the values of the objects present in the bag\n",
        " return sum([valeur_objets[i] for i, val in enumerate(sac) if val])"
      ]
    },
    {
      "cell_type": "markdown",
      "metadata": {
        "id": "-4ucKuIkJQbd"
      },
      "source": [
        "Everything works correctly&nbsp;? To check this, the easiest way is to generate a random solution, and to test our two functions on this solution."
      ]
    },
    {
      "cell_type": "code",
      "source": [
        "import random\n",
        "\n",
        "random.seed(a=3)\n",
        "nb_objets = 5\n",
        "poids_objets, valeur_objets = random_objets(10, 10)\n",
        "\n",
        "test = tuple(random.choice([False, True]) for _ in range(nb_objets))\n",
        "for o in range(nb_objets):\n",
        " print(\"%d:(%d,%d) \"%(o, poids_objets[o], valeur_objets[o]), end='')\n",
        "\n",
        "print(\"\")\n",
        "print([i for i, val in enumerate(test) if val]) # displays the indices of the True values of the solution\n",
        "print(\"weight=%d, valeur=%d\" %(poids_contenu(test), valeur_contenu(test)))"
      ],
      "metadata": {
        "colab": {
          "base_uri": "https://localhost:8080/"
        },
        "id": "Dk46gY33liJz",
        "outputId": "d5fee791-ed9b-4cd8-abec-d6e2e415841c"
      },
      "execution_count": 58,
      "outputs": [
        {
          "output_type": "stream",
          "name": "stdout",
          "text": [
            "0:(4,10) 1:(10,8) 2:(9,10) 3:(3,2) 4:(6,10) \n",
            "[1, 2]\n",
            "weight=19, valeur=18\n"
          ]
        }
      ]
    },
    {
      "cell_type": "markdown",
      "metadata": {
        "id": "JNdtEItuJQbe"
      },
      "source": [
        "Apparently, it works&nbsp;!\n",
        "\n"
      ]
    },
    {
      "cell_type": "markdown",
      "metadata": {
        "id": "027cnPuyJQbe"
      },
      "source": [
        "# 2 simple heuristics\n",
        "We can now focus on the implementation of a _Hill Climbing_. To begin with, it is necessary to implement the function for calculating the neighbourhood of a solution mentioned above."
      ]
    },
    {
      "cell_type": "markdown",
      "metadata": {
        "id": "Xv4RnmHYJQbe"
      },
      "source": [
        "## 2.1 Generation of neighbourhood\n",
        "We therefore want to generate the set of all the neighbours of a solution (so, of a tuple of Booleans). To be sure, write this algorithm in more detail. You can consider that a function of cloning a solution is at your disposal.\n",
        "\n",
        "<font color = \"yellow\">\n",
        "<em>\n",
        "</em>\n",
        "\n",
        "Now, what it left is to implement this algorithm.\n",
        "\n",
        "\n"
      ]
    },
    {
      "cell_type": "code",
      "execution_count": 60,
      "metadata": {
        "colab": {
          "base_uri": "https://localhost:8080/"
        },
        "id": "K-JC_Q7TJQbe",
        "outputId": "30585bdf-e2f9-47dd-845f-d17696381dca"
      },
      "outputs": [
        {
          "output_type": "stream",
          "name": "stdout",
          "text": [
            "(True, False, True) \n",
            "neighbours :\n",
            "(False, False, True)\n",
            "(True, False, False)\n"
          ]
        }
      ],
      "source": [
        "def voisinage(sac):\n",
        " \"\"\"\n",
        " This function is a generator of all valid neighbours of a solution\n",
        " \"\"\"\n",
        " for k in range(len(sac)):\n",
        "\n",
        " # a hint: we want the states of the first k-1 objects and the last |sac|-k-1 objects\n",
        " # and the inverse state of object k (pay attention to the slicing bounds)\n",
        "   neighbor = sac[:k] + (not sac[k],) + sac[k+1:]\n",
        "   if (poids_contenu(neighbor) <= capacite):\n",
        "    yield neighbor\n",
        "\n",
        "\n",
        "# we test\n",
        "test = (True, False, True)\n",
        "print (test, \"\\nneighbours :\")\n",
        "for voisin in voisinage(test):\n",
        " print(voisin)"
      ]
    },
    {
      "cell_type": "markdown",
      "metadata": {
        "id": "GR94nRlEJQbe"
      },
      "source": [
        "Does that sound good to you&nbsp;? Why aren't there more solutions&nbsp;?\n",
        "\n",
        "<font color = \"yellow\">\n",
        "<em>Because other combinations of booleans correspond to unfeasible solutions because they will exceed the bag's capacity</em>"
      ]
    },
    {
      "cell_type": "markdown",
      "metadata": {
        "id": "Tsn6CpVpJQbe"
      },
      "source": [
        "## 2.2 Hill Climbing\n",
        "\n",
        "\n",
        "We can finally get down to implementing our heuristic _Hill Climbing_. If we were to write the algorithm in more detail, what could we propose&nbsp;?\n",
        "\n",
        "<em>TO BE COMPLETED</em>\n",
        "\n",
        "What is wrong with this algorithm&nbsp;? How could it be fixed&nbsp;?\n",
        "\n",
        "<em>TO BE COMPLETED</em>\n",
        "\n",
        "Now let's get started with its implementation&nbsp;!\n",
        "</blockquote>"
      ]
    },
    {
      "cell_type": "code",
      "execution_count": null,
      "metadata": {
        "id": "nGZV1SXMJQbe"
      },
      "outputs": [],
      "source": [
        "def hill_climbing(solution_initiale):\n",
        " \"\"\"\n",
        " 1. We start from an element of our search set that we state current element\n",
        " 2. We consider the neighbourhood of the current element and we choose the best of them\n",
        " as the new current element\n",
        " 3. We loop until convergence on a local optimum\n",
        " \"\"\"\n",
        "\n",
        " solution_courante = solution_initiale\n",
        " nouveau = True\n",
        " nb_iter = 0 # uniquement utilisé pour l'affichage\n",
        "\n",
        " while (nouveau):\n",
        " nb_iter += 1\n",
        "\n",
        " # we go through all the neighbours of the current solution to keep the best one\n",
        " #TO BE COMPLETED\n",
        " nouveau = (meilleure_solution != solution_courante)\n",
        " solution_courante = meilleure_solution\n",
        "\n",
        " return solution_courante"
      ]
    },
    {
      "cell_type": "markdown",
      "metadata": {
        "id": "oF6gSkRUJQbf"
      },
      "source": [
        "## 2.3 Running the heuristic\n",
        "Let's test this algorithm by taking an empty bag as an initial solution, and display the proposed solution&nbsp;:"
      ]
    },
    {
      "cell_type": "code",
      "execution_count": null,
      "metadata": {
        "id": "7IGcJE70JQbf"
      },
      "outputs": [],
      "source": [
        "random.seed(a=3)\n",
        "capacite = 20\n",
        "nb_objets = 100\n",
        "poids_objets, valeur_objets=random_objets(10, 10)\n",
        "\n",
        "sac = (False,)*nb_objets # a useful feature in Python\n",
        "\n",
        "print (\"local optimization\")\n",
        "sol = hill_climbing(sac)\n",
        "print(\"final value = \" + str(valeur_contenu(sol)) + \", Capacity=\" + str(poids_contenu(sol)) + \"/\" + str(capacite))\n",
        "print([i for i, val in enumerate(sol) if val]) # liste des objets dans le sac"
      ]
    },
    {
      "cell_type": "markdown",
      "metadata": {
        "id": "-fgaezQFJQbf"
      },
      "source": [
        "Three objects is not much&nbsp;! That said, maybe we can do something to improve that. Think about it&nbsp;: this algorithm is [deterministic](https://en.wikipedia.org/wiki/Deterministic_algorithm). When considering an optimization algorithm like tabu search, what does that imply in terms of solution quality for a given instance&nbsp;?\n",
        "\n",
        "<em>TO BE COMPLETED</em>\n",
        "\n",
        "Doesn't that give you an idea to improve the result produced by the algorithm&nbsp;? How could one implement such an approach&nbsp;?\n",
        "\n",
        "<em>TO BE COMPLETED</em>\n",
        "\n",
        "It's simple to set up, especially in Python. Which function should you implement&nbsp;? What exactly will she do&nbsp;? A hint, Python’s random generation functions, e.g. [<code class=\"cm-s-ipython language-python\"><span class=\"cm-builtin\">random_choice</span></code></a>](https://docs.python.org/3/library/random.html#random.choice) should be helpful.\n",
        "\n",
        "<em>TO BE COMPLETED</em>\n",
        "\n",
        "Let’s go&nbsp;!\n",
        "\n"
      ]
    },
    {
      "cell_type": "code",
      "execution_count": null,
      "metadata": {
        "id": "9_xDtpHhJQbf"
      },
      "outputs": [],
      "source": [
        "def random_solution():\n",
        " sac = tuple( #TO BE COMPLETED\n",
        "\n",
        " while (poids_contenu(sac) > capacite):\n",
        " # list of `True` value indices in the bag\n",
        " objets_presents = tuple(\n",
        " #TO BE COMPLETED\n",
        "\n",
        " # random choice of an object to delete among those present in the bag\n",
        " objet_supprime = #TO BE COMPLETED\n",
        "\n",
        " # deletion of the randomly selected object\n",
        " sac = #TO BE COMPLETED\n",
        "\n",
        " return sac"
      ]
    },
    {
      "cell_type": "markdown",
      "metadata": {
        "id": "oyXH6i9GJQbf"
      },
      "source": [
        "Now we just have to test all this. To start, let's try with 10 iterations. At each iteration, display the search result (like the final display l.14 of the code to be completed, but without displaying the detail of the solution), so that we can see a little what is happening pass."
      ]
    },
    {
      "cell_type": "code",
      "execution_count": null,
      "metadata": {
        "id": "ZZ6yAh3nJQbf"
      },
      "outputs": [],
      "source": [
        "val_max = 0\n",
        "for _ in range(5):\n",
        " #TO BE COMPLETED\n",
        "\n",
        "print(\"\\nfinal value = %d, Capacity=%d/%d\\n\" % (val_max, poids_contenu(sol_max),capacite))\n",
        "print([i for i, val in enumerate(sol_max) if val])"
      ]
    },
    {
      "cell_type": "markdown",
      "metadata": {
        "id": "dZkGp1C2JQbf"
      },
      "source": [
        "We have significantly improved the result&nbsp;! And we can see that the local optimum found depends on the initial solution. By testing several initial solutions, one improves in certain cases the solution found. What is this technique called&nbsp;?\n",
        "\n",
        "<em>TO BE COMPLETED</em>\n",
        "\n",
        "<em>TO BE COMPLETED</em>"
      ]
    },
    {
      "cell_type": "markdown",
      "metadata": {
        "scrolled": false,
        "id": "PhAcjgOOJQbg"
      },
      "source": [
        "#3 Metaheuristics\n",
        "Finally, we have already implemented a first metaheuristic, but we are not going to stop there&nbsp;!"
      ]
    },
    {
      "cell_type": "markdown",
      "metadata": {
        "scrolled": false,
        "id": "t9EW5HvLJQbg"
      },
      "source": [
        "## 3.1 Search with a tabu list\n",
        "A metaheuristic a little smarter than a Hill Climbing should give best results. Among all the metaheuristics in the literature, the [tabu list search](https://en.wikipedia.org/wiki/tabu_search) method (often called _tabu method_ by shortcuts) is the one that could be adapted most easily based on the Hill Climbing code. Why&nbsp;?\n",
        "\n",
        "<em>TO BE COMPLETED</em>\n",
        "\n",
        "What algorithmic data structure do we need to handle this&nbsp;?\n",
        "\n",
        "<em>TO BE COMPLETED</em>\n",
        "\n",
        "To implement this in Python, which structure do you think is suitable from a performance point of view&nbsp;?\n",
        "\n",
        "<em>TO BE COMPLETED</em>\n",
        "\n",
        "This time, we have everything we need. So let's get started with this implementation&nbsp;:"
      ]
    },
    {
      "cell_type": "code",
      "execution_count": null,
      "metadata": {
        "id": "UkjIV6_VJQbg"
      },
      "outputs": [],
      "source": [
        "from collections import deque\n",
        "\n",
        "def recherche_tabou(solution_initiale, taille_tabou, iter_max):\n",
        " \"\"\"\n",
        " 1. We start from an element of our search set that we state current element\n",
        " 2. We consider the neighbourhood of the current element, we choose the best of them\n",
        " as a new current element, among those missing from the tabu list, and we add it\n",
        " to the tabu list\n",
        " 3. We run a loop until the output condition is reached.\n",
        " \"\"\"\n",
        " nb_iter = 0\n",
        " liste_tabou = #TO BE COMPLETED\n",
        "\n",
        " # variables solutions for finding the neighbour optimal not tabu\n",
        " solution_courante = solution_initiale\n",
        " meilleure = solution_initiale\n",
        " meilleure_globale = solution_initiale\n",
        "\n",
        " # variables values for finding neighbour optimal not tabu\n",
        " valeur_meilleure = valeur_contenu(solution_initiale)\n",
        " valeur_meilleure_globale = valeur_meilleure\n",
        "\n",
        "\n",
        " while (nb_iter < iter_max):\n",
        " valeur_meilleure = -1\n",
        "\n",
        " # we go through all the neighbours of the current solution\n",
        " for voisin in voisinage(solution_courante):\n",
        " #TO BE COMPLETED\n",
        "\n",
        " # we update the best solution encountered since the beginning\n",
        " if valeur_meilleure > valeur_meilleure_globale:\n",
        " meilleure_globale = meilleure\n",
        " valeur_meilleure_globale = valeur_meilleure\n",
        " nb_iter = 0\n",
        " else:\n",
        " nb_iter += 1\n",
        "\n",
        " # we go to the best non-tabu neighbour found\n",
        " solution_courante = meilleure\n",
        "\n",
        " # we update the tabu list\n",
        " #TO BE COMPLETED\n",
        "\n",
        " return meilleure_globale"
      ]
    },
    {
      "cell_type": "markdown",
      "metadata": {
        "id": "sh1jizk7JQbg"
      },
      "source": [
        "A test with a tabu list of size 5 on the same instance as before will allow us to compare the result with that obtained by local optimization&nbsp;:"
      ]
    },
    {
      "cell_type": "code",
      "execution_count": null,
      "metadata": {
        "id": "gLIGzPsgJQbg"
      },
      "outputs": [],
      "source": [
        "nb_objets = 100\n",
        "capacite = 20\n",
        "random.seed(a=3)\n",
        "poids_objets, valeur_objets = random_objets(10, 10)\n",
        "sac = (False,)*nb_objets\n",
        "taille_tabou=5\n",
        "iter_max=30\n",
        "\n",
        "print(\"tabu of size 5\")\n",
        "sol=recherche_tabou(sac, taille_tabou, iter_max)\n",
        "print(\"final value = \" + str(valeur_contenu(sol)) + \", Capacity=\"+str(poids_contenu(sol)) + \"/\" + str(capacite))"
      ]
    },
    {
      "cell_type": "markdown",
      "metadata": {
        "id": "T9c6xKhAJQbg"
      },
      "source": [
        "We have significantly improved the quality compared to the solution obtained simply by local optimization&nbsp;! That is to say if this first approach was ineffective… We are even better than with the multi-start&nbsp;!"
      ]
    },
    {
      "cell_type": "markdown",
      "metadata": {
        "id": "3O7jHWg0JQbg"
      },
      "source": [
        "## 3.2 Tabu with multi-start\n",
        "\n",
        "Moreover, we can reuse this principle of multi-start. Implement it by strengthening diversification (500 iterations, for example)&nbsp;:"
      ]
    },
    {
      "cell_type": "code",
      "execution_count": null,
      "metadata": {
        "id": "Pgl1Z4bfJQbg"
      },
      "outputs": [],
      "source": [
        "random.seed(a=3)\n",
        "\n",
        "sol_max = None\n",
        "#TO BE COMPLETED\n",
        "print(\"final value = \" + str(valeur_contenu(sol_max)))"
      ]
    },
    {
      "cell_type": "markdown",
      "metadata": {
        "id": "elbOIWK6JQbh"
      },
      "source": [
        "The solution is further improved. That said, the overhead in computation time is substantial.\n",
        "\n",
        "\n",
        "However, there is a way to speed up the calculations without touching much. Some of the functions we have implemented are _pure_. And that will allow us to set up an acceleration of the execution of the code. Do you have any idea how to do it&nbsp;?\n",
        "\n",
        "<em>TO BE COMPLETED</em>\n",
        "\n",
        "Moreover, fortunately we chose a tuple to represent a solution, because we could not have implemented this technique with lists (which are not hashable).\n",
        "\n",
        "First of all, let's restart the calculation by counting the time CPU, to get an idea of the gain that will be obtained afterwards.\n",
        "\n"
      ]
    },
    {
      "cell_type": "code",
      "execution_count": null,
      "metadata": {
        "id": "hZh_0jRVJQbh"
      },
      "outputs": [],
      "source": [
        "import time\n",
        "random.seed(a=3)\n",
        "\n",
        "sol_max = None\n",
        "val_max = 0\n",
        "\n",
        "start = time.process_time()\n",
        "\n",
        "# multi-start of 500 iterations\n",
        "#TO BE COMPLETED\n",
        "\n",
        "stop = time.process_time()\n",
        "\n",
        "print(\"final value = \" + str(valeur_contenu(sol_max)))\n",
        "print(\"calculated in \", stop-start, 's')"
      ]
    },
    {
      "cell_type": "markdown",
      "metadata": {
        "id": "c9n1R77QJQbh"
      },
      "source": [
        "Now let's test this technique, by redefining the functions involved."
      ]
    },
    {
      "cell_type": "code",
      "execution_count": null,
      "metadata": {
        "id": "5t90wfmYJQbh"
      },
      "outputs": [],
      "source": [
        "from functools import lru_cache\n",
        "\n",
        "#TO BE COMPLETED"
      ]
    },
    {
      "cell_type": "markdown",
      "metadata": {
        "id": "lGYvqpz_JQbm"
      },
      "source": [
        "And let's test this by rerunning the previous calculation&nbsp;:"
      ]
    },
    {
      "cell_type": "code",
      "execution_count": null,
      "metadata": {
        "id": "p_ju2L_CJQbm"
      },
      "outputs": [],
      "source": [
        "random.seed(a=3)\n",
        "\n",
        "sol_max = None\n",
        "val_max = -1\n",
        "\n",
        "start = time.process_time()\n",
        "# multi-start of 500 iterations\n",
        "#TO BE COMPLETED\n",
        "\n",
        "stop = time.process_time()\n",
        "\n",
        "print(\"final value = \" + str(valeur_contenu(sol_max)))\n",
        "print(\"calculated in \", stop-start, 's')"
      ]
    },
    {
      "cell_type": "markdown",
      "metadata": {
        "id": "URfdtwUqJQbm"
      },
      "source": [
        "The acceleration is impressive, the computation time has been almost divided by 4&nbsp;! And the more calculations we make on this instance, the more we will accelerate (in exchange for a higher memory consumption). To convince you of this, just run the same calculation again, but with a different seed&nbsp;:"
      ]
    },
    {
      "cell_type": "code",
      "execution_count": null,
      "metadata": {
        "id": "kcsEEx-RJQbm"
      },
      "outputs": [],
      "source": [
        "#### Copy-paste the code from the previous cell\n",
        "random.seed(a=5)\n",
        "\n",
        "sol_max = None\n",
        "val_max = 0\n",
        "\n",
        "start = time.process_time()\n",
        "# multi-start of 500 iterations\n",
        "#TO BE COMPLETED\n",
        "\n",
        "stop = time.process_time()\n",
        "\n",
        "print(\"final value = \" + str(valeur_contenu(sol_max)))\n",
        "print(\"calculated in \", stop-start, 's')"
      ]
    },
    {
      "cell_type": "markdown",
      "metadata": {
        "id": "X07SLv-oJQbn"
      },
      "source": [
        "There too, we went faster, while the execution scenario is not the same, which means that the initial solutions considered are different.\n",
        "\n",
        "\n",
        "And if you're wondering why we still get the same solution value, we'll have the answer at the next Workshop&nbsp;!"
      ]
    },
    {
      "cell_type": "markdown",
      "metadata": {
        "id": "gJfEn9T7JQbn"
      },
      "source": [
        "# 4. Conclusion\n",
        "\n",
        "This Workshop is now over, and we have finally managed to do something of this knapsack problem, since you have implemented, not one, but three metaheuristics, a Hill-Climbing with multi-start, a simple tabu search, and one with multi-start.\n",
        "\n",
        "\n",
        "Even if you start with a different implementation for your project, you can see that it is not that complicated. Take the case of a genetic algorithm. In the case of a knapsack, what would a gene represent&nbsp;?\n",
        "\n",
        "<em>TO BE COMPLETED</em>\n",
        "\n",
        "If we had to implement, we would already have a lot of reusable functions (random solution generation, assessment of the feasibility of a solution, of its value). It would just be necessary to implement a crossing function and a mutation function. What kind of crossover could be considered&nbsp;?\n",
        "\n",
        "<em>TO BE COMPLETED</em>\n",
        "\n",
        "What about the mutation&nbsp;?\n",
        "\n",
        "<em>TO BE COMPLETED</em>\n",
        "\n",
        "Once these additional functions are implemented, the body of the algorithm will not be much more complicated than that of the tabu algorithm that we have just written.\n",
        "\n",
        "\n",
        "But the question that arises is&nbsp;: are the solutions we build of good quality&nbsp;? Ultimately, we don't know.\n",
        "\n",
        "It will be necessary to analyse the behaviour of the algorithm according to certain parameters, to be able to determine if it is effective or not, and if necessary to optimize its operation. And that’s the subject of the next Workshop&nbsp;!"
      ]
    }
  ],
  "metadata": {
    "celltoolbar": "Format de la Cellule Texte Brut",
    "kernelspec": {
      "display_name": "Python_3.10",
      "language": "python",
      "name": "python_3.10"
    },
    "language_info": {
      "codemirror_mode": {
        "name": "ipython",
        "version": 3
      },
      "file_extension": ".py",
      "mimetype": "text/x-python",
      "name": "python",
      "nbconvert_exporter": "python",
      "pygments_lexer": "ipython3",
      "version": "3.10.6"
    },
    "toc": {
      "base_numbering": 1,
      "nav_menu": {},
      "number_sections": false,
      "sideBar": true,
      "skip_h1_title": false,
      "title_cell": "Table of Contents",
      "title_sidebar": "Contents",
      "toc_cell": false,
      "toc_position": {
        "height": "calc(100% - 180px)",
        "left": "10px",
        "top": "150px",
        "width": "348px"
      },
      "toc_section_display": true,
      "toc_window_display": true
    },
    "varInspector": {
      "cols": {
        "lenName": 16,
        "lenType": 16,
        "lenVar": 40
      },
      "kernels_config": {
        "python": {
          "delete_cmd_postfix": "",
          "delete_cmd_prefix": "del\n",
          "library": "var_list.py",
          "varRefreshCmd": "print(var_dic_list())"
        },
        "r": {
          "delete_cmd_postfix": ")\n",
          "delete_cmd_prefix": "rm(",
          "library": "var_list.r",
          "varRefreshCmd": "cat(var_dic_list()) "
        }
      },
      "types_to_exclude": [
        "module",
        "function",
        "builtin_function_or_method",
        "instance",
        "_Feature"
      ],
      "window_display": false
    },
    "colab": {
      "provenance": [],
      "include_colab_link": true
    }
  },
  "nbformat": 4,
  "nbformat_minor": 0
}