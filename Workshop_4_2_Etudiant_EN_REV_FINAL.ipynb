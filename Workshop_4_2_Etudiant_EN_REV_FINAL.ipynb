{
  "cells": [
    {
      "cell_type": "markdown",
      "metadata": {
        "id": "view-in-github",
        "colab_type": "text"
      },
      "source": [
        "<a href=\"https://colab.research.google.com/github/KinuthiaWambugu/colabnotebooksAA/blob/AA/Workshop_4_2_Etudiant_EN_REV_FINAL.ipynb\" target=\"_parent\"><img src=\"https://colab.research.google.com/assets/colab-badge.svg\" alt=\"Open In Colab\"/></a>"
      ]
    },
    {
      "cell_type": "markdown",
      "metadata": {
        "id": "AnoaAejQa9ar"
      },
      "source": [
        "# <center>Performance and optimization of metaheuristics<br/> Workshop</center>\n",
        "\n",
        "![logoEI_1_6.jpg](attachment:logoEI_1_6.jpg)"
      ]
    },
    {
      "cell_type": "markdown",
      "metadata": {
        "id": "cy4aHhlVa9av"
      },
      "source": [
        "# 1. Introduction\n",
        "We take the [knapsack](https://en.wikipedia.org/wiki/Knapsack_problem) problem for the last time, and we will try to find out if the algorithms we have designed are efficient.\n",
        "\n",
        "\n",
        "Start by incorporating the code of the tabu search you designed last time."
      ]
    },
    {
      "cell_type": "code",
      "execution_count": 51,
      "metadata": {
        "code_folding": [],
        "scrolled": false,
        "id": "443u6eGha9aw"
      },
      "outputs": [],
      "source": [
        "from collections import deque\n",
        "import random\n",
        "from functools import lru_cache\n",
        "\n",
        "def random_objets(poids_max, val_max):\n",
        " \"\"\"\n",
        " This function generates objects of random weight and value\n",
        " (bounded by the values passed as parameters).\n",
        "\n",
        " Returns a tuple of 2 dictionaries (weight,value)\n",
        " \"\"\"\n",
        " poids_objets = {i:random.randint(1, poids_max) for i in range(nb_objets)}\n",
        " valeur_objets = {i:random.randint(1, val_max) for i in range(nb_objets)}\n",
        "\n",
        " return poids_objets, valeur_objets\n",
        "\n",
        "def random_solution():\n",
        " sac = tuple(random.choice([True, False]) for _ in range(nb_objets)) # COMPLETED\n",
        "\n",
        " while (poids_contenu(sac) > capacite):\n",
        "     # list of `True` value indices in the bag\n",
        "     objets_presents = [i for i, val in enumerate(sac) if val] # COMPLETED\n",
        "\n",
        "     # random choice of an object to delete among those present in the bag\n",
        "     if objets_presents:\n",
        "        objet_supprime = random.choice(objets_presents)\n",
        "\n",
        "        # deletion of the randomly selected object\n",
        "        sac = sac[:objet_supprime] + (False,) + sac[objet_supprime + 1:] # COMPLETED\n",
        "\n",
        " return sac\n",
        "random.seed(a=3)\n",
        "@lru_cache(maxsize=None)\n",
        "def poids_contenu(sac):\n",
        " \"\"\"\n",
        " This function returns the sum of the weights of the objects in the bag\n",
        " \"\"\"\n",
        " return sum([poids_objets[i] for i, val in enumerate(sac) if val])\n",
        "\n",
        "\n",
        "@lru_cache(maxsize=None)\n",
        "def valeur_contenu(sac):\n",
        " \"\"\"\n",
        " This function returns the sum of the values of the objects in the bag\n",
        " \"\"\"\n",
        " return sum([valeur_objets[i] for i, val in enumerate(sac) if val])\n",
        "\n",
        "@lru_cache(maxsize=None)\n",
        "def voisinage(sac):\n",
        " \"\"\"\n",
        " This function is a generator of all valid neighbours of a solution\n",
        " \"\"\"\n",
        " result = []\n",
        " for k in range(len(sac)):\n",
        "   neighbor = sac[:k] + (not sac[k],) + sac[k+1:]\n",
        "   if (poids_contenu(neighbor) <= capacite):\n",
        "     result.append(neighbor)\n",
        "\n",
        " return result\n",
        "\n",
        "def recherche_tabou(solution_initiale, taille_tabou, iter_max):\n",
        " \"\"\"\n",
        " 1. We start from an element of our search set that we state current element\n",
        " 2. We consider the neighbourhood of the current element, we choose the best of them\n",
        " as a new current element, among those missing from the tabu list, and we add it\n",
        " to the tabu list\n",
        " 3. We run a loop until the output condition is reached.\n",
        " \"\"\"\n",
        " nb_iter = 0\n",
        " liste_tabou = deque(maxlen = taille_tabou)\n",
        "\n",
        " # variables solutions for finding the neighbour optimal not tabu\n",
        " solution_courante = solution_initiale\n",
        " meilleure = solution_initiale\n",
        " meilleure_globale = solution_initiale\n",
        "\n",
        " # variables values for finding neighbour optimal not tabu\n",
        " valeur_meilleure = valeur_contenu(solution_initiale)\n",
        " valeur_meilleure_globale = valeur_meilleure\n",
        "\n",
        "\n",
        " while (nb_iter < iter_max):\n",
        "  valeur_meilleure = -1\n",
        "\n",
        " # we go through all the neighbours of the current solution\n",
        "  for voisin in voisinage(solution_courante):\n",
        "    valeur_voisin = valeur_contenu(voisin)\n",
        "\n",
        "    if valeur_voisin > valeur_meilleure and voisin not in liste_tabou:\n",
        "      meilleure = voisin\n",
        "      valeur_meilleure = valeur_voisin\n",
        "\n",
        " # we update the best solution encountered since the beginning\n",
        "  if valeur_meilleure > valeur_meilleure_globale:\n",
        "    meilleure_globale = meilleure\n",
        "    valeur_meilleure_globale = valeur_meilleure\n",
        "    nb_iter = 0\n",
        "  else:\n",
        "    nb_iter += 1\n",
        "\n",
        " # we go to the best non-tabu neighbour found\n",
        "  solution_courante = meilleure\n",
        "\n",
        " # we update the tabu list\n",
        "  liste_tabou.append(solution_courante)\n",
        "\n",
        " return meilleure_globale"
      ]
    },
    {
      "cell_type": "markdown",
      "metadata": {
        "id": "cniHp5Aza9ay"
      },
      "source": [
        "Let’s relaunch our method&nbsp;!"
      ]
    },
    {
      "cell_type": "code",
      "execution_count": 22,
      "metadata": {
        "scrolled": false,
        "colab": {
          "base_uri": "https://localhost:8080/"
        },
        "id": "Tm-o0dHha9az",
        "outputId": "495c9339-9fcb-4f9d-c7f2-563c009268b4"
      },
      "outputs": [
        {
          "output_type": "stream",
          "name": "stdout",
          "text": [
            "tabou de taille 5\n",
            "final value = 62, Capacity=20/20\n",
            "[24, 27, 30, 41, 44, 45, 62]\n"
          ]
        }
      ],
      "source": [
        "nb_objets = 100\n",
        "capacite = 20\n",
        "random.seed(a=3)\n",
        "poids_objets, valeur_objets = random_objets(10, 10)\n",
        "sac = (False,)*nb_objets\n",
        "\n",
        "print(\"tabou de taille 5\")\n",
        "sol = recherche_tabou(sac, taille_tabou=5, iter_max=30)\n",
        "print(\"final value = \" + str(valeur_contenu(sol)) + \", Capacity=\"+str(poids_contenu(sol)) + \"/\" + str(capacite))\n",
        "print([i for i, val in enumerate(sol) if val]) # composition of the solution"
      ]
    },
    {
      "cell_type": "markdown",
      "metadata": {
        "id": "eG-vAx3Ca9az"
      },
      "source": [
        "# 2. Behaviour of the algorithm\n",
        "\n",
        "We get a feasible solution using our algorithm, but we don’t really know how the algorithm got it. Under these conditions, it’s hard to imagine what could be done to improve the solution obtained. Let’s try to see how the algorithm comes to this result."
      ]
    },
    {
      "cell_type": "markdown",
      "metadata": {
        "id": "UmXVu18wa9az"
      },
      "source": [
        "## 2.1 Trajectory study\n",
        "\n",
        "Let’s start by studying the trajectory that our algorithm follows. It’s quite simple - just select all current solutions and the history of the best solutions found at each iteration, and display all that with [matplotlib](https://matplotlib.org/index.html). Let’s go!\n",
        "\n"
      ]
    },
    {
      "cell_type": "code",
      "source": [
        "import matplotlib.pyplot as plt\n",
        "from collections import deque\n",
        "\n",
        "def recherche_tabou_traject(solution_initiale, taille_tabou, iter_max):\n",
        "    \"\"\"\n",
        "    1. We start from an element of our search set that we state current element\n",
        "    2. We consider the neighbourhood of the current element, we choose the best of them\n",
        "       as a new current element, among those missing from the tabu list, and we add it\n",
        "       to the tabu list\n",
        "    3. We run a loop until the output condition is reached.\n",
        "    \"\"\"\n",
        "    nb_iter = 0\n",
        "    liste_tabou = deque((), maxlen=taille_tabou)\n",
        "\n",
        "    # Variables for finding the optimal non-tabu neighbor\n",
        "    solution_courante = solution_initiale\n",
        "    meilleure = solution_initiale\n",
        "    meilleure_globale = solution_initiale\n",
        "\n",
        "    # Values for finding optimal non-tabu neighbor\n",
        "    valeur_meilleure = valeur_contenu(solution_initiale)\n",
        "    valeur_meilleure_globale = valeur_meilleure\n",
        "\n",
        "    # Lists of current and best solutions found, to display the trajectory\n",
        "    meilleures_courantes = deque()\n",
        "    courantes = deque()\n",
        "\n",
        "    while nb_iter < iter_max:\n",
        "        nb_iter += 1\n",
        "        valeur_meilleure = 0\n",
        "\n",
        "        # We go through all the neighbors of the current solution\n",
        "        for voisin in voisinage(solution_courante):\n",
        "            valeur_voisin = valeur_contenu(voisin)\n",
        "\n",
        "            # Check if the neighbor is not in the tabu list and is better\n",
        "            if valeur_voisin > valeur_meilleure and voisin not in liste_tabou:\n",
        "                meilleure = voisin\n",
        "                valeur_meilleure = valeur_voisin\n",
        "\n",
        "        # Update the best solution found since the beginning\n",
        "        if valeur_meilleure > valeur_meilleure_globale:\n",
        "            meilleure_globale = meilleure\n",
        "            valeur_meilleure_globale = valeur_meilleure\n",
        "            nb_iter = 0\n",
        "\n",
        "        meilleures_courantes.append(valeur_meilleure_globale)\n",
        "        courantes.append(valeur_meilleure)\n",
        "\n",
        "        # Move to the best non-tabu neighbor found\n",
        "        solution_courante = meilleure\n",
        "\n",
        "        # Update the tabu list\n",
        "        liste_tabou.append(solution_courante)\n",
        "\n",
        "    return meilleure_globale, courantes, meilleures_courantes\n",
        "\n",
        "sac = (False,) * nb_objets\n",
        "\n",
        "iter_max = 30\n",
        "taille_tabou = 5\n",
        "sol, courants, meilleurs_courants = recherche_tabou_traject(sac, taille_tabou, iter_max)\n",
        "\n",
        "plt.xlabel(\"number of iterations\", fontsize=16)\n",
        "plt.ylabel(\"value\", fontsize=16)\n",
        "res = plt.plot(range(len(courants)), courants)\n",
        "res = plt.plot(range(len(courants)), meilleurs_courants)"
      ],
      "metadata": {
        "colab": {
          "base_uri": "https://localhost:8080/",
          "height": 455
        },
        "id": "LBlCTEvU55Oi",
        "outputId": "e6dbfe66-c501-4d4f-b23d-c3fe46f985c9"
      },
      "execution_count": 25,
      "outputs": [
        {
          "output_type": "display_data",
          "data": {
            "text/plain": [
              "<Figure size 640x480 with 1 Axes>"
            ],
            "image/png": "[encoded data removed]"
          },
          "metadata": {}
        }
      ]
    },
    {
      "cell_type": "code",
      "source": [
        "import matplotlib.pyplot as plt\n",
        "from collections import deque\n",
        "import random\n",
        "\n",
        "def recherche_tabou_traject(solution_initiale, taille_tabou, iter_max):\n",
        "    \"\"\"\n",
        "    Tabu Search algorithm implementation with trajectory tracking.\n",
        "    \"\"\"\n",
        "    nb_iter = 0\n",
        "    liste_tabou = deque((), maxlen=taille_tabou)\n",
        "\n",
        "    # Initialize variables\n",
        "    solution_courante = solution_initiale\n",
        "    meilleure = solution_initiale\n",
        "    meilleure_globale = solution_initiale\n",
        "\n",
        "    valeur_meilleure = valeur_contenu(solution_initiale)\n",
        "    valeur_meilleure_globale = valeur_meilleure\n",
        "\n",
        "    # Lists to store the current and best solutions found\n",
        "    courantes = deque()\n",
        "    meilleures_courantes = deque()\n",
        "\n",
        "    while nb_iter < iter_max:\n",
        "        nb_iter += 1\n",
        "        valeur_meilleure = -1  # Initialize the best neighbor value below any possible value\n",
        "\n",
        "        # Explore neighbors\n",
        "        for voisin in voisinage(solution_courante):\n",
        "            valeur_voisin = valeur_contenu(voisin)\n",
        "            if valeur_voisin > valeur_meilleure and voisin not in liste_tabou:\n",
        "                meilleure = voisin   # Store the best neighbor\n",
        "                valeur_meilleure = valeur_voisin\n",
        "\n",
        "        # Check if the best found neighbor improves the global best solution\n",
        "        if valeur_meilleure > valeur_meilleure_globale:\n",
        "            meilleure_globale = meilleure\n",
        "            valeur_meilleure_globale = valeur_meilleure\n",
        "            nb_iter = 0  # Reset iteration count if improvement is found\n",
        "\n",
        "        # Append current and best values to the lists\n",
        "        courantes.append(valeur_meilleure)\n",
        "        meilleures_courantes.append(valeur_meilleure_globale)\n",
        "\n",
        "        # Move to the best non-tabu neighbor found\n",
        "        solution_courante = meilleure\n",
        "\n",
        "        # Update the tabu list\n",
        "        liste_tabou.append(solution_courante)\n",
        "\n",
        "    return meilleure_globale, courantes, meilleures_courantes\n",
        "\n",
        "# Example setup and plotting\n",
        "# Assume nb_objets, capacite, voisinage, and the other helper functions are defined\n",
        "sac = (False,) * nb_objets\n",
        "iter_max = 30\n",
        "taille_tabou = 5\n",
        "\n",
        "# Run the tabu search\n",
        "sol, courants, meilleurs_courants = recherche_tabou_traject(sac, taille_tabou, iter_max)\n",
        "\n",
        "# Plot the results\n",
        "plt.xlabel(\"Number of Iterations\", fontsize=16)\n",
        "plt.ylabel(\"Value\", fontsize=16)\n",
        "plt.plot(range(len(courants)), courants, label=\"Current Solution\")\n",
        "plt.plot(range(len(meilleurs_courants)), meilleurs_courants, label=\"Best Global Solution\")\n",
        "plt.legend()\n",
        "plt.show()\n"
      ],
      "metadata": {
        "colab": {
          "base_uri": "https://localhost:8080/",
          "height": 455
        },
        "id": "0ob6gmID6W1Z",
        "outputId": "943362bd-00d9-46e0-9f06-66f22248917a"
      },
      "execution_count": 26,
      "outputs": [
        {
          "output_type": "display_data",
          "data": {
            "text/plain": [
              "<Figure size 640x480 with 1 Axes>"
            ],
            "image/png": "[encoded data removed]"
          },
          "metadata": {}
        }
      ]
    },
    {
      "cell_type": "markdown",
      "metadata": {
        "id": "qn1U9PyGa9a0"
      },
      "source": [
        "We observe an interesting phenomenon after a while. What is it called&nbsp;? How can we interpret it, and what can we do about it&nbsp;?\n",
        "\n",
        "<em>Solution is stuck at the local optimum, the basin of attraction.</em>\n",
        "\n",
        "Let’s test this solution (with a value of 200, for example)&nbsp;:"
      ]
    },
    {
      "cell_type": "code",
      "execution_count": 28,
      "metadata": {
        "scrolled": false,
        "colab": {
          "base_uri": "https://localhost:8080/",
          "height": 472
        },
        "id": "7eLoe1DXa9a1",
        "outputId": "5aec8866-5ddf-4ad8-8895-6a443026a9e1"
      },
      "outputs": [
        {
          "output_type": "execute_result",
          "data": {
            "text/plain": [
              "Text(0, 0.5, 'value')"
            ]
          },
          "metadata": {},
          "execution_count": 28
        },
        {
          "output_type": "display_data",
          "data": {
            "text/plain": [
              "<Figure size 640x480 with 1 Axes>"
            ],
            "image/png": "[encoded data removed]"
          },
          "metadata": {}
        }
      ],
      "source": [
        "sac=(False,)*nb_objets\n",
        "iter_max = 200\n",
        "taille_tabou = 5\n",
        "sol, courants, meilleurs_courants=recherche_tabou_traject(sac, taille_tabou, iter_max)\n",
        "\n",
        "plt.plot(range(len(courants)), courants)\n",
        "plt.plot(range(len(courants)), meilleurs_courants)\n",
        "plt.xlabel(\"number of iterations\", fontsize=16)\n",
        "plt.ylabel(\"value\", fontsize=16)"
      ]
    },
    {
      "cell_type": "markdown",
      "metadata": {
        "id": "ORWOosmoa9a1"
      },
      "source": [
        "How do you interpret this curve&nbsp;?\n",
        "\n",
        "<em>TO BE COMPLETED</em>\n",
        "\n",
        "So let’s try to increase the value further."
      ]
    },
    {
      "cell_type": "code",
      "execution_count": 30,
      "metadata": {
        "scrolled": false,
        "id": "iTOnowqfa9a1",
        "colab": {
          "base_uri": "https://localhost:8080/",
          "height": 473
        },
        "outputId": "6039dd00-f66a-4265-8461-a07083329407"
      },
      "outputs": [
        {
          "output_type": "execute_result",
          "data": {
            "text/plain": [
              "Text(0, 0.5, 'value')"
            ]
          },
          "metadata": {},
          "execution_count": 30
        },
        {
          "output_type": "display_data",
          "data": {
            "text/plain": [
              "<Figure size 640x480 with 1 Axes>"
            ],
            "image/png": "[encoded data removed]"
          },
          "metadata": {}
        }
      ],
      "source": [
        "sac=(False,)*nb_objets\n",
        "iter_max = 30\n",
        "taille_tabou = 200\n",
        "#TO BE COMPLETED\n",
        "sol, courants, meilleurs_courants=recherche_tabou_traject(sac, taille_tabou, iter_max)\n",
        "\n",
        "plt.plot(range(len(courants)), courants)\n",
        "plt.plot(range(len(courants)), meilleurs_courants)\n",
        "plt.xlabel(\"number of iterations\", fontsize=16)\n",
        "plt.ylabel(\"value\", fontsize=16)"
      ]
    },
    {
      "cell_type": "markdown",
      "metadata": {
        "id": "rxKME-Sga9a2"
      },
      "source": [
        "What is the result? How can this be fixed?\n",
        "\n",
        "<em>TO BE COMPLETED</em>\n",
        "\n",
        "Let’s try with the same value as for the list size."
      ]
    },
    {
      "cell_type": "code",
      "execution_count": 31,
      "metadata": {
        "scrolled": false,
        "id": "qGab0OBJa9a2",
        "colab": {
          "base_uri": "https://localhost:8080/",
          "height": 473
        },
        "outputId": "8b8e456e-f534-45e4-c224-9625e56e0be8"
      },
      "outputs": [
        {
          "output_type": "execute_result",
          "data": {
            "text/plain": [
              "Text(0, 0.5, 'value')"
            ]
          },
          "metadata": {},
          "execution_count": 31
        },
        {
          "output_type": "display_data",
          "data": {
            "text/plain": [
              "<Figure size 640x480 with 1 Axes>"
            ],
            "image/png": "[encoded data removed]"
          },
          "metadata": {}
        }
      ],
      "source": [
        "sac=(False,)*nb_objets\n",
        "iter_max = 300\n",
        "taille_tabou = 300\n",
        "#TO BE COMPLETED\n",
        "sol, courants, meilleurs_courants=recherche_tabou_traject(sac, taille_tabou, iter_max)\n",
        "\n",
        "plt.plot(range(len(courants)), courants)\n",
        "plt.plot(range(len(courants)), meilleurs_courants)\n",
        "plt.xlabel(\"number of iterations\", fontsize=16)\n",
        "plt.ylabel(\"value\", fontsize=16)"
      ]
    },
    {
      "cell_type": "markdown",
      "metadata": {
        "id": "1HwFMNIYa9a2"
      },
      "source": [
        "What do we observe?\n",
        "\n",
        "<em>TO BE COMPLETED</em>"
      ]
    },
    {
      "cell_type": "markdown",
      "metadata": {
        "id": "VU9SDDkha9a2"
      },
      "source": [
        "## 2.2 Quality of the solution\n",
        "\n",
        "But ultimately, we don't know if this solution that our algorithm generates is really good. We know that we have improved it since Hill-Climbing, and that we can do better, since the multi-start does it. This may be a difficult question to answer. Why&nbsp;?\n",
        "\n",
        "<font color = \"yellow\">\n",
        "<em>We don't know how close we are to the optimal solution.</em>\n",
        "\n",
        "But we could still try to find a point of comparison, less precise, but which still brings us some information. And the solution is in fact very simple, it is found in the Workshop on the linear programming. Remember, we had already worked on the knapsack problem. Did we manage to solve it&nbsp;? Why&nbsp;?\n",
        "\n",
        "<font color = \"yellow\">\n",
        "<em>No we didn't.</em>\n",
        "\n",
        "And what did the problem-solving method that we had tried to put in place produce&nbsp;?\n",
        "\n",
        "<font color = \"yellow\">\n",
        "<em>It provides us with an unfeasible solution however, it gives us a maximum upper bound for where our optimal solution may lie.</em>\n",
        "\n",
        "\n",
        "Here is our indicator&nbsp;! Thanks to this, we will be able to set up a [design of experiments](https://en.wikipedia.org/wiki/Design_of_experiments) (there’s no need to directly apply the mathematical principles mentioned in this link, they are just there to give you an idea of the general principle, and are tools rarely used as such in the field of algorithm evaluation).\n",
        "\n",
        "\n",
        "Once we have obtained an upper bound of the optimal for our instance, if the solution we have generated is far from the bound, what conclusion can we draw&nbsp;?\n",
        "\n",
        "<font color = \"yellow\">\n",
        "<em> That the solution for our algorithm is underperforming. The gap suggests that we might be missing valuable combinations of items, either because of insufficient exploration or premature convergence to suboptimal local optima. This would prompt us to explore more advanced or diverse search techniques.</em>\n",
        "\n",
        "What if our solution is close to the bound&nbsp;?\n",
        "\n",
        "<font color = \"yellow\">\n",
        "<em> If our solution is close to the LP upper bound, it implies that our metaheuristic is effective and captures much of the optimal solution's value. While it’s not necessarily the true optimal integer solution, being near the upper bound is a positive indicator that our method approximates optimality well, as it has reached nearly the maximum possible value within the problem constraints.</em>\n",
        "\n",
        "All we have to do now is to take the code from linear programming. Let's test this&nbsp;:\n",
        "\n"
      ]
    },
    {
      "cell_type": "code",
      "execution_count": 33,
      "metadata": {
        "scrolled": false,
        "id": "HMbCoK7Qa9a3",
        "colab": {
          "base_uri": "https://localhost:8080/"
        },
        "outputId": "39a2646d-2a5e-4e6e-f970-59d0d90d21e6"
      },
      "outputs": [
        {
          "output_type": "stream",
          "name": "stdout",
          "text": [
            "Collecting pulp\n",
            "  Downloading PuLP-2.9.0-py3-none-any.whl.metadata (5.4 kB)\n",
            "Downloading PuLP-2.9.0-py3-none-any.whl (17.7 MB)\n",
            "\u001b[2K   \u001b[90m━━━━━━━━━━━━━━━━━━━━━━━━━━━━━━━━━━━━━━━━\u001b[0m \u001b[32m17.7/17.7 MB\u001b[0m \u001b[31m53.3 MB/s\u001b[0m eta \u001b[36m0:00:00\u001b[0m\n",
            "\u001b[?25hInstalling collected packages: pulp\n",
            "Successfully installed pulp-2.9.0\n",
            "upper bound:  91.33333329999999\n",
            "solution value: 68\n"
          ]
        }
      ],
      "source": [
        "# we give you the ready-made solution!\n",
        "!pip install pulp\n",
        "from pulp import *\n",
        "\n",
        "def borne_superieure():\n",
        " objets = range(nb_objets)\n",
        "\n",
        " # variables\n",
        " x = LpVariable.dicts('objet', objets, 0, 1)\n",
        "\n",
        " # problem\n",
        " prob = LpProblem(\"knapsack\", LpMaximize)\n",
        "\n",
        " # objective function\n",
        " cost = lpSum([valeur_objets[i]*x[i] for i in objets])\n",
        " prob += cost\n",
        "\n",
        " # constraint\n",
        " prob += lpSum([poids_objets[i]*x[i] for i in objets]) <= capacite\n",
        "\n",
        " prob.solve()\n",
        " return value(prob.objective) if (LpStatus[prob.status] == \"Optimal\") else None\n",
        "\n",
        "borne = borne_superieure()\n",
        "if borne is not None:\n",
        " print(\"upper bound: \", borne)\n",
        "print(\"solution value:\", str(valeur_contenu(sol)))"
      ]
    },
    {
      "cell_type": "markdown",
      "metadata": {
        "id": "SpRH_um9a9a3"
      },
      "source": [
        "It's not bad, but we can surely do better&nbsp;! Typically by doing a multistart. By the way, let's see what it gives&nbsp;:"
      ]
    },
    {
      "cell_type": "code",
      "execution_count": 37,
      "metadata": {
        "scrolled": false,
        "id": "djVg9D4ea9a3",
        "colab": {
          "base_uri": "https://localhost:8080/"
        },
        "outputId": "f148d4c1-aedd-453a-d1ec-488b231b5b39"
      },
      "outputs": [
        {
          "output_type": "stream",
          "name": "stdout",
          "text": [
            "final value = 91\n"
          ]
        }
      ],
      "source": [
        "import random\n",
        "random.seed(a=5)\n",
        "\n",
        "sol_max = None\n",
        "val_max = 0\n",
        "\n",
        "# multi-start of 500 iterations\n",
        "for _ in range (500):\n",
        " sac = random_solution()\n",
        " sol_courante = recherche_tabou(sac, taille_tabou, iter_max)\n",
        " val_courante = valeur_contenu(sol_courante)\n",
        " if (val_courante > val_max):\n",
        "  val_max = val_courante\n",
        "  sol_max = sol_courante\n",
        "\n",
        "print(\"final value = \" + str(valeur_contenu(sol_max)))"
      ]
    },
    {
      "cell_type": "markdown",
      "metadata": {
        "id": "6d6C5kVUa9a3"
      },
      "source": [
        "How do you interpret these results&nbsp;?\n",
        "\n",
        "<font color = \"yellow\">\n",
        "<em>Basically, multistart is better/ more efficient than single start.</em>\n",
        "\n",
        "Remember, in the previous workshop, two runs of the multistart gave the same solution value. Here it is, the explanation&nbsp;!\n",
        "\n",
        "But we decided to stick to simple tabu algorithms. Let's come back to it, and try to get a better idea of its performance."
      ]
    },
    {
      "cell_type": "markdown",
      "metadata": {
        "id": "2WlNXBkVa9a4"
      },
      "source": [
        "# 3. Design of experiments and optimization of the algorithm\n",
        "\n",
        "We managed to build a solution to 2/3 of the bound (or even more if we use the multi-start) of our random instance. But can we generalize this result&nbsp;?\n",
        "\n",
        "<font color = \"yellow\">\n",
        "<em>It is not representative since it is only on one instance (random instance).</em>"
      ]
    },
    {
      "cell_type": "markdown",
      "metadata": {
        "id": "Yw_xFW4na9a4"
      },
      "source": [
        "## 3.1 Statistical quality of the solutions\n",
        "\n",
        "To get a more accurate idea of the algorithm performance, it would be necessary to test a large number of instances. But this approach poses a big problem with respect to the optimization that we implemented last time to speed up the calculations. What is this problem&nbsp;?\n",
        "\n",
        "<font color = \"yellow\">\n",
        "<em>Since we used caching (memoization), it is necessary to calculate each instance and their solution and distance between the lower bound. Memoization of this works if the instance doesn't change.</em>\n",
        "\n",
        "How can we remedy this without giving up this optimization, which may be useful if we have to do a large number of tests&nbsp;?\n",
        "\n",
        "<font color = \"yellow\">\n",
        "<em>Clear cache of the function. To define all the functions as nested functions. </em>\n",
        "\n",
        "Let's fix that right now&nbsp;!"
      ]
    },
    {
      "cell_type": "code",
      "execution_count": 49,
      "metadata": {
        "scrolled": false,
        "id": "ksA00M2Wa9a4"
      },
      "outputs": [],
      "source": [
        "def random_objets(poids_max, val_max):\n",
        " \"\"\"\n",
        " This function generates objects of random weight and value\n",
        " (limited by the values passed in parameter).\n",
        "\n",
        " Returns a tuple of 2 dictionaries (weight,value)\n",
        " \"\"\"\n",
        "\n",
        " #TO BE COMPLETED\n",
        " poids_objets.cache_clear()\n",
        " valeur_objets.cache_clear()\n",
        " voisinage.cache_clear()\n",
        "\n",
        " poids_objets = {i: random.randint(1, poids_max) for i in range(nb_objets)}\n",
        " valeur_objets = {i: random.randint(1, val_max) for i in range(nb_objets)}\n",
        "\n",
        " return poids_objets, valeur_objets"
      ]
    },
    {
      "cell_type": "markdown",
      "metadata": {
        "id": "SAVH-98ra9a4"
      },
      "source": [
        "Problem solved&nbsp;! We can tackle the implementation of our statistical test. Let's go back to the size of tabu and the number of iterations which gave good results earlier. Moreover, to try to increase the representativeness of our results, we will provide the search with a random initial solution for each test.\n",
        "\n",
        "And since we are starting to have calculations that take time again, we will reuse the progress bar of the first Workshop. For this time, you are reminded of the code."
      ]
    },
    {
      "cell_type": "code",
      "source": [
        "from ipywidgets import IntProgress\n",
        "from IPython.display import display\n",
        "\n",
        "random.seed(a=3)\n",
        "bounds = deque(())\n",
        "\n",
        "iter_max = 200 #SOLUTION\n",
        "tabu_size = 100 #SOLUTION\n",
        "\n",
        "# test parameters\n",
        "nb_tests = 200\n",
        "\n",
        "# we display the progress bar\n",
        "bar = IntProgress(min=0, max=nb_tests, layout={\"width\" : \"100%\"})\n",
        "display(bar)\n",
        "\n",
        "for _ in range(nb_tests):\n",
        " # random generation of the instance and calculation of\n",
        " # its upper bound.\n",
        "\n",
        " poids_objets, valeur_objets = random_objets(10, 10) #SOLUTION\n",
        " bound = upper_bound() #SOLUTION\n",
        " #SOLUTION\n",
        " sack = random_solution() #SOLUTION\n",
        " sol = tabu_search(sack, tabu_size, iter_max) #SOLUTION\n",
        " val = sack_value(sol) #SOLUTION\n",
        " distance = bound-val #SOLUTION\n",
        " bounds.append(distance)\n",
        " bar.value += 1\n",
        "\n",
        "# we hide the progress bar\n",
        "bar.close()\n",
        "\n",
        "print(sum(bounds) / len(bounds))\n"
      ],
      "metadata": {
        "colab": {
          "base_uri": "https://localhost:8080/",
          "height": 263,
          "referenced_widgets": [
            "2dc0e5b0a9ac45baac46e5c2ababd9ea",
            "6dea42e2fdeb4c0ea1ec1eb184979312",
            "add2bcca4dd04b62aa419e475a29e06d"
          ]
        },
        "id": "0qVC2Q-kM2ku",
        "outputId": "ba048d77-64c2-4873-ef09-4fde1f591464"
      },
      "execution_count": 52,
      "outputs": [
        {
          "output_type": "display_data",
          "data": {
            "text/plain": [
              "IntProgress(value=0, layout=Layout(width='100%'), max=200)"
            ],
            "application/vnd.jupyter.widget-view+json": {
              "version_major": 2,
              "version_minor": 0,
              "model_id": "2dc0e5b0a9ac45baac46e5c2ababd9ea"
            }
          },
          "metadata": {}
        },
        {
          "output_type": "error",
          "ename": "NameError",
          "evalue": "name 'upper_bound' is not defined",
          "traceback": [
            "\u001b[0;31m---------------------------------------------------------------------------\u001b[0m",
            "\u001b[0;31mNameError\u001b[0m                                 Traceback (most recent call last)",
            "\u001b[0;32m<ipython-input-52-c125104e49b5>\u001b[0m in \u001b[0;36m<cell line: 17>\u001b[0;34m()\u001b[0m\n\u001b[1;32m     20\u001b[0m \u001b[0;34m\u001b[0m\u001b[0m\n\u001b[1;32m     21\u001b[0m  \u001b[0mpoids_objets\u001b[0m\u001b[0;34m,\u001b[0m \u001b[0mvaleur_objets\u001b[0m \u001b[0;34m=\u001b[0m \u001b[0mrandom_objets\u001b[0m\u001b[0;34m(\u001b[0m\u001b[0;36m10\u001b[0m\u001b[0;34m,\u001b[0m \u001b[0;36m10\u001b[0m\u001b[0;34m)\u001b[0m \u001b[0;31m#SOLUTION\u001b[0m\u001b[0;34m\u001b[0m\u001b[0;34m\u001b[0m\u001b[0m\n\u001b[0;32m---> 22\u001b[0;31m  \u001b[0mbound\u001b[0m \u001b[0;34m=\u001b[0m \u001b[0mupper_bound\u001b[0m\u001b[0;34m(\u001b[0m\u001b[0;34m)\u001b[0m \u001b[0;31m#SOLUTION\u001b[0m\u001b[0;34m\u001b[0m\u001b[0;34m\u001b[0m\u001b[0m\n\u001b[0m\u001b[1;32m     23\u001b[0m  \u001b[0;31m#SOLUTION\u001b[0m\u001b[0;34m\u001b[0m\u001b[0;34m\u001b[0m\u001b[0m\n\u001b[1;32m     24\u001b[0m  \u001b[0msack\u001b[0m \u001b[0;34m=\u001b[0m \u001b[0mrandom_solution\u001b[0m\u001b[0;34m(\u001b[0m\u001b[0;34m)\u001b[0m \u001b[0;31m#SOLUTION\u001b[0m\u001b[0;34m\u001b[0m\u001b[0;34m\u001b[0m\u001b[0m\n",
            "\u001b[0;31mNameError\u001b[0m: name 'upper_bound' is not defined"
          ]
        }
      ]
    },
    {
      "cell_type": "code",
      "execution_count": 53,
      "metadata": {
        "scrolled": false,
        "id": "xEF6xJfua9a4",
        "colab": {
          "base_uri": "https://localhost:8080/",
          "height": 263,
          "referenced_widgets": [
            "37e824fd72da4852b310811461e04f8e",
            "3e26705725654d6b842eb31f22a625b3",
            "d19c7a9a21e84e70a066e7b8c7077877"
          ]
        },
        "outputId": "b151ab71-a064-46d5-f9dd-4fba78533781"
      },
      "outputs": [
        {
          "output_type": "display_data",
          "data": {
            "text/plain": [
              "IntProgress(value=0, layout=Layout(width='100%'), max=200)"
            ],
            "application/vnd.jupyter.widget-view+json": {
              "version_major": 2,
              "version_minor": 0,
              "model_id": "37e824fd72da4852b310811461e04f8e"
            }
          },
          "metadata": {}
        },
        {
          "output_type": "error",
          "ename": "TypeError",
          "evalue": "'float' object is not callable",
          "traceback": [
            "\u001b[0;31m---------------------------------------------------------------------------\u001b[0m",
            "\u001b[0;31mTypeError\u001b[0m                                 Traceback (most recent call last)",
            "\u001b[0;32m<ipython-input-53-062b974021b8>\u001b[0m in \u001b[0;36m<cell line: 18>\u001b[0;34m()\u001b[0m\n\u001b[1;32m     19\u001b[0m  \u001b[0;31m#TO BE COMPLETED\u001b[0m\u001b[0;34m\u001b[0m\u001b[0;34m\u001b[0m\u001b[0m\n\u001b[1;32m     20\u001b[0m  \u001b[0mpoids_objets\u001b[0m\u001b[0;34m,\u001b[0m \u001b[0mvaleur_objets\u001b[0m \u001b[0;34m=\u001b[0m \u001b[0mrandom_objets\u001b[0m\u001b[0;34m(\u001b[0m\u001b[0;36m10\u001b[0m\u001b[0;34m,\u001b[0m \u001b[0;36m10\u001b[0m\u001b[0;34m)\u001b[0m\u001b[0;34m\u001b[0m\u001b[0;34m\u001b[0m\u001b[0m\n\u001b[0;32m---> 21\u001b[0;31m  \u001b[0mbornes\u001b[0m \u001b[0;34m=\u001b[0m \u001b[0mborne\u001b[0m\u001b[0;34m(\u001b[0m\u001b[0;34m)\u001b[0m\u001b[0;34m\u001b[0m\u001b[0;34m\u001b[0m\u001b[0m\n\u001b[0m\u001b[1;32m     22\u001b[0m \u001b[0;34m\u001b[0m\u001b[0m\n\u001b[1;32m     23\u001b[0m  \u001b[0msac\u001b[0m \u001b[0;34m=\u001b[0m \u001b[0mrandom_solution\u001b[0m\u001b[0;34m(\u001b[0m\u001b[0;34m)\u001b[0m\u001b[0;34m\u001b[0m\u001b[0;34m\u001b[0m\u001b[0m\n",
            "\u001b[0;31mTypeError\u001b[0m: 'float' object is not callable"
          ]
        }
      ],
      "source": [
        "from ipywidgets import IntProgress\n",
        "from IPython.display import display\n",
        "\n",
        "random.seed(a=3)\n",
        "bornes = deque(())\n",
        "\n",
        "#TO BE COMPLETED\n",
        "iter_max = 200\n",
        "taille_tabou = 100\n",
        "\n",
        "# test parameters\n",
        "nb_tests = 200\n",
        "\n",
        "# we display the progress bar\n",
        "bar = IntProgress(min=0, max=nb_tests, layout={\"width\" : \"100%\"})\n",
        "display(bar)\n",
        "\n",
        "for _ in range(nb_tests):\n",
        " #TO BE COMPLETED\n",
        " poids_objets, valeur_objets = random_objets(10, 10)\n",
        " bornes = borne()\n",
        "\n",
        " sac = random_solution()\n",
        " sol = recherche_tabou(sac, taille_tabou, iter_max)\n",
        " val = valeur_contenu(sol)\n",
        " distance = bornes - val\n",
        " bornes.append(distance)\n",
        " bar.value += 1\n",
        "\n",
        "# we hide the progress bar\n",
        "bar.close()\n",
        "\n",
        "print(sum(bornes) / len(bornes))"
      ]
    },
    {
      "cell_type": "markdown",
      "metadata": {
        "id": "7LdaCyHda9a5"
      },
      "source": [
        "Let's take a closer look at the values we get. That's good, we have the list of all distances. How could these values be examined in more detail&nbsp;?\n",
        "\n",
        "font\n",
        "<em>We can plot a histogram</em>\n",
        "\n",
        "Let's try this&nbsp;!"
      ]
    },
    {
      "cell_type": "code",
      "execution_count": null,
      "metadata": {
        "run_control": {
          "marked": true
        },
        "scrolled": false,
        "id": "zMCI5Nzra9a5"
      },
      "outputs": [],
      "source": [
        "#TO BE COMPLETED"
      ]
    },
    {
      "cell_type": "markdown",
      "metadata": {
        "id": "maEWx0i-a9a5"
      },
      "source": [
        "The bulk of the values are between 10 and 30. But that doesn't tell us much. What information are we missing&nbsp;?\n",
        "\n",
        "<em>Can show the percentafe</em>\n",
        "\n",
        "No luck, you have to redo the calculations&nbsp;!\n",
        "\n"
      ]
    },
    {
      "cell_type": "code",
      "execution_count": null,
      "metadata": {
        "scrolled": false,
        "id": "ryB0MDpka9a6"
      },
      "outputs": [],
      "source": [
        "random.seed(a=3)\n",
        "bornes = deque(())\n",
        "\n",
        "# we display the progress bar\n",
        "bar = IntProgress(min=0, max=nb_tests, layout={\"width\" : \"100%\"})\n",
        "display(bar)\n",
        "\n",
        "for _ in range(nb_tests):\n",
        " #TO BE COMPLETED\n",
        "\n",
        "# we hide the progress bar\n",
        "bar.close()\n",
        "\n",
        "#TO BE COMPLETED"
      ]
    },
    {
      "cell_type": "markdown",
      "metadata": {
        "id": "k0TpvHzma9a6"
      },
      "source": [
        "The representation is a bit crude, 'matplotlib' used too large a grouping interval of values. Which parameter will we have to modify to make a finer display&nbsp;?\n",
        "\n",
        "<em>The use of bins in matplotlib</em>\n",
        "\n",
        "Luckily, this time, no need to recalculate, we already have the values in the variable `limits`. Just redo a display of these values&nbsp;:"
      ]
    },
    {
      "cell_type": "code",
      "execution_count": null,
      "metadata": {
        "scrolled": false,
        "id": "12XMyFlwa9a6"
      },
      "outputs": [],
      "source": [
        "#TO BE COMPLETED"
      ]
    },
    {
      "cell_type": "markdown",
      "metadata": {
        "id": "n81aqr-ya9a6"
      },
      "source": [
        "There, now it’s more readable&nbsp;! It is clear that the vast majority of our solutions are above 70 % of the limit. What is the most representative value of the algorithm's behaviour&nbsp;? What descriptive statistics could answer this question&nbsp;?\n",
        "\n",
        "<em>You can look at the mean, average value.</em>\n",
        "\n",
        "Let's see what it gives. Depending on performance levels, we can use the functions from Python’s standard [statistics](https://docs.python.org/fr/3.7/library/statistics.html) module, or [NumPy’s statistics functions](https://numpy.org/doc/stable/reference/routines.statistics.html).\n",
        "\n"
      ]
    },
    {
      "cell_type": "code",
      "source": [],
      "metadata": {
        "id": "AI_dmcKILPMS"
      },
      "execution_count": null,
      "outputs": []
    },
    {
      "cell_type": "code",
      "execution_count": null,
      "metadata": {
        "scrolled": false,
        "id": "zFwyYjMla9a7"
      },
      "outputs": [],
      "source": [
        "import statistics #mean / fmean + std. np(bounds)\n",
        "import numpy as np # sum(bounds)/ len(bounds)\n",
        "\n",
        "#TO BE COMPLETED"
      ]
    },
    {
      "cell_type": "markdown",
      "metadata": {
        "id": "1PHQjcfsa9a7"
      },
      "source": [
        "How do you interpret these results?&nbsp;\n",
        "\n",
        "<font color = \"yellow\">\n",
        "<em>They are quite satisfactory. The mean and median are almost equal by the fact the distribution is quite symmetrical. We will therefore use mean/ sd couple.</em>"
      ]
    },
    {
      "cell_type": "markdown",
      "metadata": {
        "id": "tCYy1bHia9a7"
      },
      "source": [
        "## 3.2 Optimization of algorithm parameters\n",
        "\n",
        "Although the behaviour seems quite acceptable, there are still instances for which things are not going so well. Couldn’t we find a parameterization of the algorithm that is better for these instances&nbsp;?\n",
        "\n",
        "To answer this question, we will look at the impact of the size of the tabu list on quality. The goal will be to display, with Matplotlib, the mean in the form of a curve, and the standard deviation by means of a ‘strip' enclosing the curve&nbsp;:\n",
        "![curve.png](attachment:curve.png)\n",
        "\n"
      ]
    },
    {
      "cell_type": "code",
      "execution_count": null,
      "metadata": {
        "scrolled": false,
        "id": "Ft2Ip8mAa9a8"
      },
      "outputs": [],
      "source": [
        "random.seed(a=3)\n",
        "\n",
        "# test parameters\n",
        "tabou_min = 1\n",
        "tabou_max = 40\n",
        "nb_objets = 200\n",
        "\n",
        "nb_test = 100\n",
        "iter_max = 20\n",
        "\n",
        "# we display the progress bar\n",
        "nb_steps_bar = #TO BE COMPLETED\n",
        "bar = IntProgress(min=0, max=nb_steps_bar, layout={\"width\" : \"100%\"})\n",
        "display(bar)\n",
        "\n",
        "# to store results\n",
        "moyennes = []\n",
        "deviations = []\n",
        "\n",
        "random.seed(a=3)\n",
        "\n",
        "# this time we loop on the size of the tabu list\n",
        "#TO BE COMPLETED\n",
        "\n",
        "# we hide the progress bar\n",
        "bar.close()\n",
        "\n",
        "# display of the average curve\n",
        "plt.plot(range(tabou_min, tabou_max), moyennes)\n",
        "\n",
        "# display of the standard deviation strip\n",
        "plt.fill_between(range(tabou_min, tabou_max),\n",
        " np.subtract(moyennes, deviations), # high bound\n",
        " np.add(moyennes, deviations), # lower bound\n",
        " alpha=.1) # transparency\n",
        "plt.xlabel(\"tabu list size\")\n",
        "plt.ylabel(\"distance to bound\")\n",
        "plt.title(\"Impact of the tabu list size on the quality of the solutions\")\n",
        "plt.show()"
      ]
    },
    {
      "cell_type": "markdown",
      "metadata": {
        "id": "Kzj5AJNoa9a8"
      },
      "source": [
        "What do you observe&nbsp;?\n",
        "\n",
        "<em>TO BE COMPLETED</em>\n",
        "\n",
        "This opens up prospects for continuing the tests, and drawing conclusions on the most efficient parameters of the algorithm. How could we proceed&nbsp;?\n",
        "\n",
        "<em>TO BE COMPLETED</em>\n",
        "\n",
        "If we want to check this automatically, how could we proceed&nbsp;?\n",
        "\n",
        "<em>TO BE COMPLETED</em>\n",
        "\n",
        "In any case, everything suggests that our parameterization of the algorithm was not optimal. We lost in computation time compared to the quality of the generated solution."
      ]
    },
    {
      "cell_type": "markdown",
      "metadata": {
        "id": "-yBRzwWYa9a9"
      },
      "source": [
        "## 3.3 Impact of instance parameters\n",
        "\n",
        "But finally, we want to improve the performances on these difficult instances, while we don't even know what makes them complicated to solve. So, the question we can ask ourselves is&nbsp;: what makes a instance difficult&nbsp;?\n",
        "\n",
        "To begin with, we will play with the number of objects, which is the simplest thing to implement."
      ]
    },
    {
      "cell_type": "code",
      "execution_count": null,
      "metadata": {
        "scrolled": false,
        "id": "SMPuvwUOa9a9"
      },
      "outputs": [],
      "source": [
        "random.seed(a=3)\n",
        "\n",
        "# test parameters\n",
        "objets_min = 20\n",
        "objets_max = 320\n",
        "objets_steps = 20\n",
        "nb_test = 200\n",
        "\n",
        "taille_tabou = 5\n",
        "iter_max = taille_tabou*2\n",
        "\n",
        "nb_steps_bar = #TO BE COMPLETED\n",
        "\n",
        "# we display the progress bar\n",
        "bar = IntProgress(min=0, max=nb_steps_bar, layout={\"width\" : \"100%\"})\n",
        "display(bar)\n",
        "\n",
        "# to store results\n",
        "moyennes = []\n",
        "deviations = []\n",
        "\n",
        "# we make the number of objects change in the random generation of instances\n",
        "#TO BE COMPLETED\n",
        "\n",
        "# we hide the progress bar\n",
        "bar.close()\n",
        "\n",
        "# display of the average curve\n",
        "plt.plot(range(objets_min, objets_max, objets_steps), moyennes)\n",
        "\n",
        "# display of the standard deviation strip\n",
        "plt.fill_between(range(objets_min, objets_max, objets_steps),\n",
        " np.subtract(moyennes, deviations), # high bound\n",
        " np.add(moyennes, deviations), # lower bound\n",
        " alpha=.1) # transparency\n",
        "plt.ylim(top=100)\n",
        "plt.xlabel(\"number of available objects\")\n",
        "plt.ylabel(\"distance to bound\")\n",
        "plt.title(\"Impact of the number of objects on the quality of the solutions\")\n",
        "plt.show()"
      ]
    },
    {
      "cell_type": "markdown",
      "metadata": {
        "id": "tQsDLLJJa9bI"
      },
      "source": [
        "What do you think of these results&nbsp;? How do you interpret them&nbsp;?\n",
        "\n",
        "<font color = \"yellow\">\n",
        "<em>With an increase in tabu list size, </em>"
      ]
    },
    {
      "cell_type": "markdown",
      "metadata": {
        "id": "mfokqHw5a9bJ"
      },
      "source": [
        "## 3.4 To go even further\n",
        "\n",
        "There are still many things that we could study to understand and above all improve how our algorithm works (not to mention the calculations you should perhaps redo with a greater number of tests per configuration). We only looked at the parameters alone, not the way in which they can be combined (or very little). And then we didn't look at the computation time at all. As when studying the theoretical complexity of algorithms, measuring the occupation time CPU will not necessarily be relevant. Which metric makes sense to you&nbsp;?\n",
        "\n",
        "<em>TO BE COMPLETED</em>\n",
        "\n",
        "In any case, it allowed us to improve the quality of the solution by refining the parameters of the tabu search to reinforce the diversification phase (which here seemed to cause us problem). If we encountered more difficult instances, which our algorithm could not solve efficiently, regardless of the parameterization, what could we do&nbsp;?\n",
        "\n",
        "<em>TO BE COMPLETED</em>\n",
        "\n",
        "And then, once all this work is done (and not before), we could also look at the multi-start. What do you think is relevant&nbsp;?\n",
        "\n",
        "<em>TO BE COMPLETED</em>"
      ]
    },
    {
      "cell_type": "markdown",
      "metadata": {
        "id": "hwKKcDS_a9bJ"
      },
      "source": [
        "# 4 Conclusion\n",
        "\n",
        "This Workshop is now concluded, and we have a much more precise idea of how our metaheuristic behaves.\n",
        "\n",
        "\n",
        "\n",
        "And if we pay a little attention, this experimental study that we performed is organized as a [design of experiments](https://en.wikipedia.org/wiki/Design_of_experiments) (for example, considering simple research before we can look at the multi-start, or defining a quality indicator in the first place). You will have to think about a similar plan for your project, so as not to waste time (especially since the calculations are rather long). On the other hand, do not push the approach to the point of applying the mathematical principles mentioned in the previous link, since these are tools rarely used as such in the field of algorithm evaluation).\n",
        "\n",
        "\n",
        "You now have all the weapons to not only design and implement a metaheuristic, but also analyse its behaviour and optimize its parameters to get the best out of it."
      ]
    }
  ],
  "metadata": {
    "kernelspec": {
      "display_name": "Python 3 (ipykernel)",
      "language": "python",
      "name": "python3"
    },
    "language_info": {
      "codemirror_mode": {
        "name": "ipython",
        "version": 3
      },
      "file_extension": ".py",
      "mimetype": "text/x-python",
      "name": "python",
      "nbconvert_exporter": "python",
      "pygments_lexer": "ipython3",
      "version": "3.9.0"
    },
    "toc": {
      "base_numbering": 1,
      "nav_menu": {},
      "number_sections": false,
      "sideBar": true,
      "skip_h1_title": false,
      "title_cell": "Table of Contents",
      "title_sidebar": "Contents",
      "toc_cell": false,
      "toc_position": {
        "height": "calc(100% - 180px)",
        "left": "10px",
        "top": "150px",
        "width": "339px"
      },
      "toc_section_display": true,
      "toc_window_display": true
    },
    "varInspector": {
      "cols": {
        "lenName": 16,
        "lenType": 16,
        "lenVar": 40
      },
      "kernels_config": {
        "python": {
          "delete_cmd_postfix": "",
          "delete_cmd_prefix": "del\n",
          "library": "var_list.py",
          "varRefreshCmd": "print(var_dic_list())"
        },
        "r": {
          "delete_cmd_postfix": ")\n",
          "delete_cmd_prefix": "rm(",
          "library": "var_list.r",
          "varRefreshCmd": "cat(var_dic_list()) "
        }
      },
      "position": {
        "height": "607.85px",
        "left": "1083px",
        "right": "20px",
        "top": "126px",
        "width": "774px"
      },
      "types_to_exclude": [
        "module",
        "function",
        "builtin_function_or_method",
        "instance",
        "_Feature"
      ],
      "window_display": false
    },
    "colab": {
      "provenance": [],
      "include_colab_link": true
    },
    "widgets": {
      "application/vnd.jupyter.widget-state+json": {
        "2dc0e5b0a9ac45baac46e5c2ababd9ea": {
          "model_module": "@jupyter-widgets/controls",
          "model_name": "IntProgressModel",
          "model_module_version": "1.5.0",
          "state": {
            "_dom_classes": [],
            "_model_module": "@jupyter-widgets/controls",
            "_model_module_version": "1.5.0",
            "_model_name": "IntProgressModel",
            "_view_count": null,
            "_view_module": "@jupyter-widgets/controls",
            "_view_module_version": "1.5.0",
            "_view_name": "ProgressView",
            "bar_style": "",
            "description": "",
            "description_tooltip": null,
            "layout": "IPY_MODEL_6dea42e2fdeb4c0ea1ec1eb184979312",
            "max": 200,
            "min": 0,
            "orientation": "horizontal",
            "style": "IPY_MODEL_add2bcca4dd04b62aa419e475a29e06d",
            "value": 0
          }
        },
        "6dea42e2fdeb4c0ea1ec1eb184979312": {
          "model_module": "@jupyter-widgets/base",
          "model_name": "LayoutModel",
          "model_module_version": "1.2.0",
          "state": {
            "_model_module": "@jupyter-widgets/base",
            "_model_module_version": "1.2.0",
            "_model_name": "LayoutModel",
            "_view_count": null,
            "_view_module": "@jupyter-widgets/base",
            "_view_module_version": "1.2.0",
            "_view_name": "LayoutView",
            "align_content": null,
            "align_items": null,
            "align_self": null,
            "border": null,
            "bottom": null,
            "display": null,
            "flex": null,
            "flex_flow": null,
            "grid_area": null,
            "grid_auto_columns": null,
            "grid_auto_flow": null,
            "grid_auto_rows": null,
            "grid_column": null,
            "grid_gap": null,
            "grid_row": null,
            "grid_template_areas": null,
            "grid_template_columns": null,
            "grid_template_rows": null,
            "height": null,
            "justify_content": null,
            "justify_items": null,
            "left": null,
            "margin": null,
            "max_height": null,
            "max_width": null,
            "min_height": null,
            "min_width": null,
            "object_fit": null,
            "object_position": null,
            "order": null,
            "overflow": null,
            "overflow_x": null,
            "overflow_y": null,
            "padding": null,
            "right": null,
            "top": null,
            "visibility": null,
            "width": "100%"
          }
        },
        "add2bcca4dd04b62aa419e475a29e06d": {
          "model_module": "@jupyter-widgets/controls",
          "model_name": "ProgressStyleModel",
          "model_module_version": "1.5.0",
          "state": {
            "_model_module": "@jupyter-widgets/controls",
            "_model_module_version": "1.5.0",
            "_model_name": "ProgressStyleModel",
            "_view_count": null,
            "_view_module": "@jupyter-widgets/base",
            "_view_module_version": "1.2.0",
            "_view_name": "StyleView",
            "bar_color": null,
            "description_width": ""
          }
        },
        "37e824fd72da4852b310811461e04f8e": {
          "model_module": "@jupyter-widgets/controls",
          "model_name": "IntProgressModel",
          "model_module_version": "1.5.0",
          "state": {
            "_dom_classes": [],
            "_model_module": "@jupyter-widgets/controls",
            "_model_module_version": "1.5.0",
            "_model_name": "IntProgressModel",
            "_view_count": null,
            "_view_module": "@jupyter-widgets/controls",
            "_view_module_version": "1.5.0",
            "_view_name": "ProgressView",
            "bar_style": "",
            "description": "",
            "description_tooltip": null,
            "layout": "IPY_MODEL_3e26705725654d6b842eb31f22a625b3",
            "max": 200,
            "min": 0,
            "orientation": "horizontal",
            "style": "IPY_MODEL_d19c7a9a21e84e70a066e7b8c7077877",
            "value": 0
          }
        },
        "3e26705725654d6b842eb31f22a625b3": {
          "model_module": "@jupyter-widgets/base",
          "model_name": "LayoutModel",
          "model_module_version": "1.2.0",
          "state": {
            "_model_module": "@jupyter-widgets/base",
            "_model_module_version": "1.2.0",
            "_model_name": "LayoutModel",
            "_view_count": null,
            "_view_module": "@jupyter-widgets/base",
            "_view_module_version": "1.2.0",
            "_view_name": "LayoutView",
            "align_content": null,
            "align_items": null,
            "align_self": null,
            "border": null,
            "bottom": null,
            "display": null,
            "flex": null,
            "flex_flow": null,
            "grid_area": null,
            "grid_auto_columns": null,
            "grid_auto_flow": null,
            "grid_auto_rows": null,
            "grid_column": null,
            "grid_gap": null,
            "grid_row": null,
            "grid_template_areas": null,
            "grid_template_columns": null,
            "grid_template_rows": null,
            "height": null,
            "justify_content": null,
            "justify_items": null,
            "left": null,
            "margin": null,
            "max_height": null,
            "max_width": null,
            "min_height": null,
            "min_width": null,
            "object_fit": null,
            "object_position": null,
            "order": null,
            "overflow": null,
            "overflow_x": null,
            "overflow_y": null,
            "padding": null,
            "right": null,
            "top": null,
            "visibility": null,
            "width": "100%"
          }
        },
        "d19c7a9a21e84e70a066e7b8c7077877": {
          "model_module": "@jupyter-widgets/controls",
          "model_name": "ProgressStyleModel",
          "model_module_version": "1.5.0",
          "state": {
            "_model_module": "@jupyter-widgets/controls",
            "_model_module_version": "1.5.0",
            "_model_name": "ProgressStyleModel",
            "_view_count": null,
            "_view_module": "@jupyter-widgets/base",
            "_view_module_version": "1.2.0",
            "_view_name": "StyleView",
            "bar_color": null,
            "description_width": ""
          }
        }
      }
    }
  },
  "nbformat": 4,
  "nbformat_minor": 0
}